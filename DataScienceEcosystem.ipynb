{
 "cells": [
  {
   "cell_type": "markdown",
   "id": "5428ff69-3623-4fbc-bd55-a0f8dee13a29",
   "metadata": {},
   "source": [
    "# Data Science Tools and Ecosystem"
   ]
  },
  {
   "cell_type": "markdown",
   "id": "7e40a0eb-09c8-4546-bc1d-70368c879eab",
   "metadata": {},
   "source": [
    "In this notebook, Data Science Tools and Ecosystem are summarized. "
   ]
  },
  {
   "cell_type": "markdown",
   "id": "abdc3538-4b06-4501-9a93-bd198eb7a03b",
   "metadata": {},
   "source": [
    "**Objectives:**\n",
    "\n",
    "- List Popular Languages For Data Science\n",
    "- Understand Some of The Basic Tools Used In Data Science\n",
    "- Identify a Framework For A Data Science Report Process\n",
    "- Obtain a rudimentary understanding of JupyterLabs"
   ]
  },
  {
   "cell_type": "markdown",
   "id": "05b1fc57-12ed-4fa2-8a17-b871789dcad0",
   "metadata": {},
   "source": [
    "Some of the popular languages that Data Scientists use are:\n",
    "\n",
    "    1. Python\n",
    "    2. R\n",
    "    3. Scala\n",
    "    4. Javascript\n",
    "    "
   ]
  },
  {
   "cell_type": "markdown",
   "id": "32555080-0c1b-4780-82ae-250be86570c0",
   "metadata": {},
   "source": [
    "Some of the commonly used libraries used by Data Scientists include:\n",
    "\n",
    "1. ggplot\n",
    "2. TensorFlow\n",
    "3. pandas\n",
    "4. numpy\n",
    "5. lattice"
   ]
  },
  {
   "cell_type": "markdown",
   "id": "dd9c7060-3dc1-4218-9626-eca8ed6a6fcd",
   "metadata": {},
   "source": [
    "| Data Science Tools |\n",
    "| ------------------ |\n",
    "| RStudio |\n",
    "|Anaconda |\n",
    "|Visual Studio Code |"
   ]
  },
  {
   "cell_type": "markdown",
   "id": "e4a5bc14-d026-4860-bb5a-7233a60b37f1",
   "metadata": {},
   "source": [
    "### Below are a few examples of evaluating arithmetic expressions in Python"
   ]
  },
  {
   "cell_type": "code",
   "execution_count": 2,
   "id": "7bdd889a-7e79-4f62-9e0f-477dba0142e7",
   "metadata": {},
   "outputs": [
    {
     "data": {
      "text/plain": [
       "17"
      ]
     },
     "execution_count": 2,
     "metadata": {},
     "output_type": "execute_result"
    }
   ],
   "source": [
    "# This is a simple arithmetic expression to multiply then add integers\n",
    "\n",
    "(3*4) + 5"
   ]
  },
  {
   "cell_type": "code",
   "execution_count": 3,
   "id": "5725a3ac-08e8-4698-b66c-a57e97bbb819",
   "metadata": {},
   "outputs": [
    {
     "data": {
      "text/plain": [
       "3.3333333333333335"
      ]
     },
     "execution_count": 3,
     "metadata": {},
     "output_type": "execute_result"
    }
   ],
   "source": [
    "# This will convert 200 minutes to hours by dividing by 60\n",
    "def min_to_hours(minutes):\n",
    "    return minutes / 60\n",
    "\n",
    "min_to_hours(200)"
   ]
  },
  {
   "cell_type": "markdown",
   "id": "fbdf3e42-d93e-407c-bf37-a803198277f6",
   "metadata": {},
   "source": [
    "## Author: ##\n",
    "\n",
    "Gabriel True"
   ]
  }
 ],
 "metadata": {
  "kernelspec": {
   "display_name": "Python 3 (ipykernel)",
   "language": "python",
   "name": "python3"
  },
  "language_info": {
   "codemirror_mode": {
    "name": "ipython",
    "version": 3
   },
   "file_extension": ".py",
   "mimetype": "text/x-python",
   "name": "python",
   "nbconvert_exporter": "python",
   "pygments_lexer": "ipython3",
   "version": "3.10.9"
  }
 },
 "nbformat": 4,
 "nbformat_minor": 5
}
